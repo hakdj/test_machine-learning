{
 "cells": [
  {
   "cell_type": "code",
   "execution_count": 6,
   "id": "330a9b04",
   "metadata": {},
   "outputs": [],
   "source": [
    ">>> data = [[0, 0], [0, 0], [1, 1], [1, 1]]"
   ]
  },
  {
   "cell_type": "code",
   "execution_count": 7,
   "id": "3641253e",
   "metadata": {},
   "outputs": [],
   "source": [
    ">>> from sklearn.preprocessing import StandardScaler\n",
    ">>> scaler = StandardScaler()"
   ]
  },
  {
   "cell_type": "code",
   "execution_count": 8,
   "id": "5ed09471",
   "metadata": {},
   "outputs": [
    {
     "name": "stdout",
     "output_type": "stream",
     "text": [
      "StandardScaler()\n"
     ]
    }
   ],
   "source": [
    ">>> print(scaler.fit(data))"
   ]
  },
  {
   "cell_type": "code",
   "execution_count": 9,
   "id": "c96e45fb",
   "metadata": {},
   "outputs": [
    {
     "name": "stdout",
     "output_type": "stream",
     "text": [
      "[0.5 0.5]\n"
     ]
    }
   ],
   "source": [
    ">>> print(scaler.mean_)"
   ]
  },
  {
   "cell_type": "code",
   "execution_count": 10,
   "id": "9f086e99",
   "metadata": {},
   "outputs": [
    {
     "name": "stdout",
     "output_type": "stream",
     "text": [
      "[[-1. -1.]\n",
      " [-1. -1.]\n",
      " [ 1.  1.]\n",
      " [ 1.  1.]]\n"
     ]
    }
   ],
   "source": [
    ">>> print(scaler.transform(data))"
   ]
  },
  {
   "cell_type": "code",
   "execution_count": 11,
   "id": "aa7ec4e8",
   "metadata": {},
   "outputs": [
    {
     "name": "stdout",
     "output_type": "stream",
     "text": [
      "[[3. 3.]]\n"
     ]
    }
   ],
   "source": [
    ">>> print(scaler.transform([[2, 2]]))"
   ]
  },
  {
   "cell_type": "code",
   "execution_count": null,
   "id": "745596fd",
   "metadata": {},
   "outputs": [],
   "source": []
  },
  {
   "cell_type": "code",
   "execution_count": null,
   "id": "771cde82",
   "metadata": {},
   "outputs": [],
   "source": []
  }
 ],
 "metadata": {
  "kernelspec": {
   "display_name": "Python 3",
   "language": "python",
   "name": "python3"
  },
  "language_info": {
   "codemirror_mode": {
    "name": "ipython",
    "version": 3
   },
   "file_extension": ".py",
   "mimetype": "text/x-python",
   "name": "python",
   "nbconvert_exporter": "python",
   "pygments_lexer": "ipython3",
   "version": "3.6.4"
  }
 },
 "nbformat": 4,
 "nbformat_minor": 5
}
