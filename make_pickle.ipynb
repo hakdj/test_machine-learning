{
 "cells": [
  {
   "cell_type": "code",
   "execution_count": 1,
   "id": "e52dbfad",
   "metadata": {},
   "outputs": [],
   "source": [
    "import pickle"
   ]
  },
  {
   "cell_type": "code",
   "execution_count": 2,
   "id": "5e7d3452",
   "metadata": {},
   "outputs": [],
   "source": [
    "favorite = {'lion':'yellow','tiger':'red'}"
   ]
  },
  {
   "cell_type": "code",
   "execution_count": 6,
   "id": "72a00a25",
   "metadata": {},
   "outputs": [],
   "source": [
    "# as machine learning, favorite -> model variable\n",
    "pickle.dump(favorite, open('./saves/favorite_save.pkl','wb'))"
   ]
  },
  {
   "cell_type": "code",
   "execution_count": 7,
   "id": "8008bb1c",
   "metadata": {},
   "outputs": [
    {
     "name": "stdout",
     "output_type": "stream",
     "text": [
      " C 드라이브의 볼륨에는 이름이 없습니다.\n",
      " 볼륨 일련 번호: D09D-FE52\n",
      "\n",
      " C:\\Develops\\test_machine-learning 디렉터리\n",
      "\n",
      "2021-06-30  오후 02:27    <DIR>          .\n",
      "2021-06-30  오후 02:27    <DIR>          ..\n",
      "2021-06-29  오후 03:37             1,928 .gitignore\n",
      "2021-06-30  오후 02:12    <DIR>          .idea\n",
      "2021-06-30  오후 02:24    <DIR>          .ipynb_checkpoints\n",
      "2021-06-30  오후 02:27             9,603 autompg_colN_regression-.ipynb\n",
      "2021-06-30  오전 09:50             7,588 autompg_regression.ipynb\n",
      "2021-06-29  오후 04:03    <DIR>          files\n",
      "2021-06-30  오후 01:07    <DIR>          image\n",
      "2021-06-29  오후 03:37            11,558 LICENSE\n",
      "2021-06-30  오후 02:03             3,770 machine-learning-study.md\n",
      "2021-06-30  오후 02:17             1,450 make_pickle.ipynb\n",
      "2021-06-29  오후 03:37                23 README.md\n",
      "2021-06-30  오후 02:26    <DIR>          saves\n",
      "2021-06-30  오후 02:23             3,138 use_pickle.ipynb\n",
      "               8개 파일              39,058 바이트\n",
      "               7개 디렉터리  55,319,416,832 바이트 남음\n"
     ]
    }
   ],
   "source": [
    "!dir"
   ]
  },
  {
   "cell_type": "code",
   "execution_count": null,
   "id": "34219767",
   "metadata": {},
   "outputs": [],
   "source": []
  },
  {
   "cell_type": "code",
   "execution_count": null,
   "id": "be171cb5",
   "metadata": {},
   "outputs": [],
   "source": []
  }
 ],
 "metadata": {
  "kernelspec": {
   "display_name": "Python 3",
   "language": "python",
   "name": "python3"
  },
  "language_info": {
   "codemirror_mode": {
    "name": "ipython",
    "version": 3
   },
   "file_extension": ".py",
   "mimetype": "text/x-python",
   "name": "python",
   "nbconvert_exporter": "python",
   "pygments_lexer": "ipython3",
   "version": "3.6.4"
  }
 },
 "nbformat": 4,
 "nbformat_minor": 5
}
