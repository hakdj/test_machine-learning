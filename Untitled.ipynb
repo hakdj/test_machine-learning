{
 "cells": [
  {
   "cell_type": "code",
   "execution_count": 7,
   "id": "47f46b31",
   "metadata": {},
   "outputs": [],
   "source": [
    "import sklearn"
   ]
  },
  {
   "cell_type": "code",
   "execution_count": 3,
   "id": "8ac6239a",
   "metadata": {
    "collapsed": true
   },
   "outputs": [
    {
     "name": "stdout",
     "output_type": "stream",
     "text": [
      "Collecting sklearn\n",
      "  Downloading sklearn-0.0.tar.gz (1.1 kB)\n",
      "Collecting scikit-learn\n",
      "  Downloading scikit_learn-0.24.2-cp36-cp36m-win_amd64.whl (6.8 MB)\n",
      "Requirement already satisfied: numpy>=1.13.3 in c:\\users\\hakdj\\appdata\\roaming\\python\\python36\\site-packages (from scikit-learn->sklearn) (1.19.5)\n",
      "Collecting threadpoolctl>=2.0.0\n",
      "  Downloading threadpoolctl-2.1.0-py3-none-any.whl (12 kB)\n",
      "Collecting scipy>=0.19.1\n",
      "  Downloading scipy-1.5.4-cp36-cp36m-win_amd64.whl (31.2 MB)\n",
      "Collecting joblib>=0.11\n",
      "  Downloading joblib-1.0.1-py3-none-any.whl (303 kB)\n",
      "Using legacy 'setup.py install' for sklearn, since package 'wheel' is not installed.\n",
      "Installing collected packages: threadpoolctl, scipy, joblib, scikit-learn, sklearn\n",
      "    Running setup.py install for sklearn: started\n",
      "    Running setup.py install for sklearn: finished with status 'done'\n",
      "Successfully installed joblib-1.0.1 scikit-learn-0.24.2 scipy-1.5.4 sklearn-0.0 threadpoolctl-2.1.0\n"
     ]
    }
   ],
   "source": [
    "!python -m pip install sklearn"
   ]
  },
  {
   "cell_type": "code",
   "execution_count": 8,
   "id": "1e1e6ce9",
   "metadata": {},
   "outputs": [
    {
     "name": "stdout",
     "output_type": "stream",
     "text": [
      "The autoreload extension is already loaded. To reload it, use:\n",
      "  %reload_ext autoreload\n"
     ]
    }
   ],
   "source": [
    "%load_ext autoreload\n",
    "\n",
    "%autoreload 2\n"
   ]
  },
  {
   "cell_type": "code",
   "execution_count": 9,
   "id": "3a625d8c",
   "metadata": {},
   "outputs": [],
   "source": [
    "import pandas as pd"
   ]
  },
  {
   "cell_type": "code",
   "execution_count": 10,
   "id": "f9c5a202",
   "metadata": {},
   "outputs": [
    {
     "name": "stdout",
     "output_type": "stream",
     "text": [
      " C 드라이브의 볼륨에는 이름이 없습니다.\n",
      " 볼륨 일련 번호: D09D-FE52\n",
      "\n",
      " C:\\Develops\\test_machine-learning\\files 디렉터리\n",
      "\n",
      "2021-06-29  오후 04:03            21,913 auto-mpg.csv\n",
      "               1개 파일              21,913 바이트\n",
      "               0개 디렉터리  55,670,095,872 바이트 남음\n"
     ]
    }
   ],
   "source": [
    "!dir .\\files\\auto-mpg.csv"
   ]
  },
  {
   "cell_type": "markdown",
   "id": "22a0c62e",
   "metadata": {},
   "source": [
    "결측치를 보기위해서 디스크립션(info()) 하기 "
   ]
  },
  {
   "cell_type": "code",
   "execution_count": 16,
   "id": "8f7aaed6",
   "metadata": {},
   "outputs": [
    {
     "data": {
      "text/plain": [
       "(398, 9)"
      ]
     },
     "execution_count": 16,
     "metadata": {},
     "output_type": "execute_result"
    }
   ],
   "source": [
    "pd_data.shape"
   ]
  },
  {
   "cell_type": "code",
   "execution_count": 14,
   "id": "2d6f5c8c",
   "metadata": {},
   "outputs": [
    {
     "name": "stdout",
     "output_type": "stream",
     "text": [
      "<class 'pandas.core.frame.DataFrame'>\n",
      "RangeIndex: 398 entries, 0 to 397\n",
      "Data columns (total 9 columns):\n",
      " #   Column  Non-Null Count  Dtype  \n",
      "---  ------  --------------  -----  \n",
      " 0   0       398 non-null    float64\n",
      " 1   1       398 non-null    int64  \n",
      " 2   2       398 non-null    float64\n",
      " 3   3       398 non-null    object \n",
      " 4   4       398 non-null    float64\n",
      " 5   5       398 non-null    float64\n",
      " 6   6       398 non-null    int64  \n",
      " 7   7       398 non-null    int64  \n",
      " 8   8       398 non-null    object \n",
      "dtypes: float64(4), int64(3), object(2)\n",
      "memory usage: 28.1+ KB\n"
     ]
    }
   ],
   "source": [
    "pd_data= pd.read_csv('./files/auto-mpg.csv', header=None)\n",
    "pd_data.info()"
   ]
  },
  {
   "cell_type": "markdown",
   "id": "b045e214",
   "metadata": {},
   "source": [
    "값이 object라고 나온 부분은 조심하기. float나 int는 괜찮음.\n",
    "어떠한 값이 될수도 있기 떄문에 그 안에 들어간 것이 무엇인지 꼭 확인하기!"
   ]
  },
  {
   "cell_type": "code",
   "execution_count": 18,
   "id": "ec7c1fdc",
   "metadata": {},
   "outputs": [],
   "source": [
    "pd_data.columns = ['mpg','cylinders','displacement','horsepower','weight',\n",
    "              'acceleration','model year','origin','name']\n"
   ]
  },
  {
   "cell_type": "code",
   "execution_count": 19,
   "id": "1e39529e",
   "metadata": {},
   "outputs": [],
   "source": [
    "x=pd_data[['weight']]"
   ]
  },
  {
   "cell_type": "code",
   "execution_count": 20,
   "id": "15dfa2a6",
   "metadata": {},
   "outputs": [],
   "source": [
    "y=pd_data[['mpg']]"
   ]
  },
  {
   "cell_type": "code",
   "execution_count": 21,
   "id": "09e139fc",
   "metadata": {},
   "outputs": [
    {
     "data": {
      "text/plain": [
       "((398, 1), (398, 1))"
      ]
     },
     "execution_count": 21,
     "metadata": {},
     "output_type": "execute_result"
    }
   ],
   "source": [
    "x.shape, y.shape"
   ]
  },
  {
   "cell_type": "code",
   "execution_count": 22,
   "id": "f0a9570a",
   "metadata": {},
   "outputs": [],
   "source": [
    "from sklearn.linear_model import LinearRegression"
   ]
  },
  {
   "cell_type": "code",
   "execution_count": 24,
   "id": "64607153",
   "metadata": {},
   "outputs": [],
   "source": [
    "lr=LinearRegression()"
   ]
  },
  {
   "cell_type": "code",
   "execution_count": 25,
   "id": "b7855b8a",
   "metadata": {},
   "outputs": [
    {
     "data": {
      "text/plain": [
       "LinearRegression()"
      ]
     },
     "execution_count": 25,
     "metadata": {},
     "output_type": "execute_result"
    }
   ],
   "source": [
    "lr.fit(x,y)"
   ]
  },
  {
   "cell_type": "code",
   "execution_count": 26,
   "id": "4a450f11",
   "metadata": {},
   "outputs": [
    {
     "data": {
      "text/plain": [
       "array([[-0.00767661]])"
      ]
     },
     "execution_count": 26,
     "metadata": {},
     "output_type": "execute_result"
    }
   ],
   "source": [
    "lr.coef_"
   ]
  },
  {
   "cell_type": "code",
   "execution_count": 27,
   "id": "aa23c166",
   "metadata": {},
   "outputs": [
    {
     "data": {
      "text/plain": [
       "array([46.31736442])"
      ]
     },
     "execution_count": 27,
     "metadata": {},
     "output_type": "execute_result"
    }
   ],
   "source": [
    "lr.intercept_"
   ]
  },
  {
   "cell_type": "markdown",
   "id": "35582f66",
   "metadata": {},
   "source": [
    "y= -0.00767661x + 46.31736442"
   ]
  },
  {
   "cell_type": "code",
   "execution_count": 28,
   "id": "b3704c20",
   "metadata": {},
   "outputs": [
    {
     "data": {
      "text/plain": [
       "0.6917929800341573"
      ]
     },
     "execution_count": 28,
     "metadata": {},
     "output_type": "execute_result"
    }
   ],
   "source": [
    "lr.score(x,y)"
   ]
  },
  {
   "cell_type": "markdown",
   "id": "2b40b321",
   "metadata": {},
   "source": [
    "* ##### 데이터 머신러닝을 교육시켰지만, 실제 머신러닝이 갖고 있는것은 `coef, intercept`를 가지고 있음.\n",
    "\n",
    "* ##### 또한 score를 검증해야 하기 떄문에 원래 자료를 %를 나눠서 스플릿을 시켜서 학습 시키는 부분 그리고 확인하는 부분으로 나눠야 한다.\n",
    "\n",
    "  * ```python\n",
    "    from sklearn.model_selection import train_test_split;\n",
    "    X_train, X_test, Y_train, Y_test = train_test_split(x,y);\n",
    "    # 머신러닝에 학습을 위해 넣는 부분이 (train)부분\n",
    "    # 머신러닝이 학습을 하고 난 후 테스트를 하기위한 부분이 (test)부분\n",
    "    # 또한 split을 하면 100개로 쪼개짐.\n",
    "    X_train.shape, X_test.shape, Y_train.shape, Y_test.shape;\n",
    "    # 이렇게 되면 변수가 바뀌게 됨\n",
    "    # lr.fit(x,y)  -> lr.fit(X_train,Y_train)\n",
    "    lr.fit(X_train,Y_train);\n",
    "    # lr.coef_ 이 값 또한 바꿔줘야함.\n",
    "    lr.coef_, lr.intercept_  # 두개를 넣어주고,\n",
    "    lr.coef_, lr.intercept_  # 결과를 확인하면 값이 달라진다.\n",
    "    # 즉 직선(리니어) 머신러닝 셋은 데이터에 따라 값이 달라진다.\n",
    "    ```\n",
    "\n",
    "  * \n",
    "\n",
    "  \n",
    "\n"
   ]
  },
  {
   "cell_type": "code",
   "execution_count": null,
   "id": "d2ed8ea3",
   "metadata": {},
   "outputs": [],
   "source": []
  }
 ],
 "metadata": {
  "kernelspec": {
   "display_name": "Python 3",
   "language": "python",
   "name": "python3"
  },
  "language_info": {
   "codemirror_mode": {
    "name": "ipython",
    "version": 3
   },
   "file_extension": ".py",
   "mimetype": "text/x-python",
   "name": "python",
   "nbconvert_exporter": "python",
   "pygments_lexer": "ipython3",
   "version": "3.6.4"
  }
 },
 "nbformat": 4,
 "nbformat_minor": 5
}
